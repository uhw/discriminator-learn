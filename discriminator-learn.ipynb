{
 "cells": [
  {
   "cell_type": "code",
   "execution_count": 1,
   "metadata": {},
   "outputs": [
    {
     "name": "stderr",
     "output_type": "stream",
     "text": [
      "Using TensorFlow backend.\n"
     ]
    }
   ],
   "source": [
    "import os\n",
    "\n",
    "from keras.utils import np_utils\n",
    "import matplotlib.pyplot as plt\n",
    "from keras.models import Input, Model, load_model\n",
    "from keras.layers import Conv2D, MaxPool2D, Flatten, Dense\n",
    "from keras.callbacks import EarlyStopping\n",
    "% matplotlib inline\n",
    "\n",
    "from tensorflow.examples.tutorials.mnist import input_data"
   ]
  },
  {
   "cell_type": "code",
   "execution_count": 2,
   "metadata": {},
   "outputs": [
    {
     "name": "stdout",
     "output_type": "stream",
     "text": [
      "Extracting MNIST_data/train-images-idx3-ubyte.gz\n",
      "Extracting MNIST_data/train-labels-idx1-ubyte.gz\n",
      "Extracting MNIST_data/t10k-images-idx3-ubyte.gz\n",
      "Extracting MNIST_data/t10k-labels-idx1-ubyte.gz\n"
     ]
    }
   ],
   "source": [
    "mnist = input_data.read_data_sets(\"MNIST_data/\")"
   ]
  },
  {
   "cell_type": "code",
   "execution_count": 3,
   "metadata": {
    "collapsed": true
   },
   "outputs": [],
   "source": [
    "def keras_discriminator(images):\n",
    "  \"\"\"\n",
    "      Translation of tutorial into Keras.\n",
    "  \"\"\"\n",
    "  inputs = Input(shape=images.shape[1:])\n",
    "  layer = Conv2D(filters=32, kernel_size=(5, 5), activation=\"relu\")(inputs)\n",
    "  layer = MaxPool2D()(layer)\n",
    "  layer = Conv2D(filters=64, kernel_size=(5, 5), activation=\"relu\")(layer)\n",
    "  layer = MaxPool2D()(layer)\n",
    "\n",
    "  layer = Flatten()(layer)\n",
    "  layer = Dense(units=512, activation=\"relu\")(layer)\n",
    "  outputs = Dense(units=10, activation=\"softmax\")(layer)\n",
    "\n",
    "  model = Model(inputs=inputs, outputs=outputs)\n",
    "  model.compile(loss=\"categorical_crossentropy\",\n",
    "                optimizer=\"adam\",\n",
    "                metrics=[\"accuracy\"])\n",
    "\n",
    "  return model"
   ]
  },
  {
   "cell_type": "code",
   "execution_count": 4,
   "metadata": {},
   "outputs": [],
   "source": [
    "def train_model(images_train, labels_train):\n",
    "    discriminator = keras_discriminator(images_train)\n",
    "    history = discriminator.fit(x=mnist.train.images.reshape((mnist.train.images.shape[0], 28, 28, 1)),\n",
    "                                y=np_utils.to_categorical(mnist.train.labels),\n",
    "                                batch_size=100,\n",
    "                                epochs=10,\n",
    "                                callbacks=[EarlyStopping(patience=2)],\n",
    "                                validation_split=0.2)\n",
    "    return (discriminator, history)\n",
    "    "
   ]
  },
  {
   "cell_type": "code",
   "execution_count": 5,
   "metadata": {
    "collapsed": true
   },
   "outputs": [],
   "source": [
    "def discriminator(images_train, labels_train):\n",
    "    \"\"\"\n",
    "        Check if model files exist. If so, load the model.\n",
    "        Otherwise, train the model and save it for later use.\n",
    "    \"\"\"\n",
    "    DIRECTORY = \"./learned_model/\"\n",
    "    MODEL_FILE = \"discriminator.h5\"\n",
    "    \n",
    "    model_file_path = os.path.join(DIRECTORY, MODEL_FILE)\n",
    "    if (os.path.isfile(model_file_path)):\n",
    "        discriminator = load_model(model_file_path)\n",
    "    else:\n",
    "        discriminator, history = train_model(images_train, labels_train)\n",
    "        if not os.path.exists(DIRECTORY):\n",
    "            os.makedirs(DIRECTORY)\n",
    "        discriminator.save(model_file_path)\n",
    "    \n",
    "    return discriminator"
   ]
  },
  {
   "cell_type": "code",
   "execution_count": 6,
   "metadata": {},
   "outputs": [],
   "source": [
    "images_train = mnist.train.images.reshape((mnist.train.images.shape[0], 28, 28, 1))\n",
    "labels_train = np_utils.to_categorical(mnist.train.labels)\n",
    "model = discriminator(images_train, labels_train)"
   ]
  },
  {
   "cell_type": "code",
   "execution_count": 7,
   "metadata": {},
   "outputs": [
    {
     "name": "stdout",
     "output_type": "stream",
     "text": [
      " 9984/10000 [============================>.] - ETA: 0s"
     ]
    }
   ],
   "source": [
    "err = model.evaluate(x=mnist.test.images.reshape((mnist.test.images.shape[0], 28, 28, 1)),\n",
    "                 y=np_utils.to_categorical(mnist.test.labels))"
   ]
  },
  {
   "cell_type": "code",
   "execution_count": 8,
   "metadata": {},
   "outputs": [
    {
     "name": "stdout",
     "output_type": "stream",
     "text": [
      "error rate:  0.0134\n"
     ]
    }
   ],
   "source": [
    "print(\"error rate: \", 1 - err[-1])"
   ]
  },
  {
   "cell_type": "code",
   "execution_count": 9,
   "metadata": {
    "collapsed": true
   },
   "outputs": [],
   "source": [
    "def output_size(w, k, p, s):\n",
    "  \"\"\"\n",
    "      Compute the expected output size given\n",
    "      w = width/height of input\n",
    "      k = width/height of scan\n",
    "      p = padding\n",
    "      s = stride\n",
    "  \"\"\"\n",
    "  return (w - k + 2 * p) / s + 1"
   ]
  },
  {
   "cell_type": "code",
   "execution_count": 10,
   "metadata": {},
   "outputs": [
    {
     "data": {
      "text/plain": [
       "14.0"
      ]
     },
     "execution_count": 10,
     "metadata": {},
     "output_type": "execute_result"
    }
   ],
   "source": [
    "output_size(28, 2, 0, 2) # After first pooling."
   ]
  },
  {
   "cell_type": "code",
   "execution_count": 11,
   "metadata": {},
   "outputs": [
    {
     "data": {
      "text/plain": [
       "7.0"
      ]
     },
     "execution_count": 11,
     "metadata": {},
     "output_type": "execute_result"
    }
   ],
   "source": [
    "output_size(14, 2, 0, 2) # After second pooling."
   ]
  }
 ],
 "metadata": {
  "kernelspec": {
   "display_name": "Python 3",
   "language": "python",
   "name": "python3"
  },
  "language_info": {
   "codemirror_mode": {
    "name": "ipython",
    "version": 3
   },
   "file_extension": ".py",
   "mimetype": "text/x-python",
   "name": "python",
   "nbconvert_exporter": "python",
   "pygments_lexer": "ipython3",
   "version": "3.6.2"
  }
 },
 "nbformat": 4,
 "nbformat_minor": 2
}
